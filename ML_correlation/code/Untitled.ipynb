{
 "cells": [
  {
   "cell_type": "code",
   "execution_count": 10,
   "metadata": {
    "collapsed": true
   },
   "outputs": [],
   "source": [
    "import traffic\n",
    "import numpy as np\n",
    "import matplotlib.pyplot as plt\n",
    "import dpkt\n",
    "import scipy.stats\n",
    "import scipy.spatial\n",
    "import copy\n",
    "import pickle\n",
    "import socket\n",
    "import datetime\n",
    "import timeit\n",
    "from multiprocessing import Process,Manager\n",
    "from __future__ import print_function\n",
    "import numpy as np\n",
    "import tensorflow as tf\n",
    "from six.moves import cPickle as pickle\n",
    "import os"
   ]
  },
  {
   "cell_type": "code",
   "execution_count": 2,
   "metadata": {
    "collapsed": true
   },
   "outputs": [],
   "source": [
    "mtraf= traffic.Traffic('rate_20_30',1005)"
   ]
  },
  {
   "cell_type": "code",
   "execution_count": 26,
   "metadata": {
    "collapsed": false
   },
   "outputs": [],
   "source": [
    "mtraf.selectNewSamples(3000)\n",
    "data=mtraf.getCurrentSamples()"
   ]
  },
  {
   "cell_type": "code",
   "execution_count": 28,
   "metadata": {
    "collapsed": false
   },
   "outputs": [
    {
     "ename": "NameError",
     "evalue": "name 'data' is not defined",
     "output_type": "error",
     "traceback": [
      "\u001b[1;31m---------------------------------------------------------------------------\u001b[0m",
      "\u001b[1;31mNameError\u001b[0m                                 Traceback (most recent call last)",
      "\u001b[1;32m<ipython-input-28-067cca2182d7>\u001b[0m in \u001b[0;36m<module>\u001b[1;34m()\u001b[0m\n\u001b[0;32m      4\u001b[0m \u001b[0mtraindata\u001b[0m\u001b[1;33m=\u001b[0m\u001b[1;33m[\u001b[0m\u001b[1;33m]\u001b[0m\u001b[1;33m\u001b[0m\u001b[0m\n\u001b[0;32m      5\u001b[0m \u001b[0mtrainlabel\u001b[0m\u001b[1;33m=\u001b[0m\u001b[1;33m[\u001b[0m\u001b[1;33m]\u001b[0m\u001b[1;33m\u001b[0m\u001b[0m\n\u001b[1;32m----> 6\u001b[1;33m \u001b[0mokey\u001b[0m\u001b[1;33m=\u001b[0m\u001b[0mdata\u001b[0m\u001b[1;33m.\u001b[0m\u001b[0mkeys\u001b[0m\u001b[1;33m(\u001b[0m\u001b[1;33m)\u001b[0m\u001b[1;33m\u001b[0m\u001b[0m\n\u001b[0m\u001b[0;32m      7\u001b[0m \u001b[1;32mfor\u001b[0m \u001b[0mi\u001b[0m \u001b[1;32min\u001b[0m \u001b[0mxrange\u001b[0m\u001b[1;33m(\u001b[0m\u001b[0mnumtrue\u001b[0m\u001b[1;33m)\u001b[0m\u001b[1;33m:\u001b[0m\u001b[1;33m\u001b[0m\u001b[0m\n\u001b[0;32m      8\u001b[0m     \u001b[0mmtraf\u001b[0m\u001b[1;33m.\u001b[0m\u001b[0mclearCaches\u001b[0m\u001b[1;33m(\u001b[0m\u001b[1;33m)\u001b[0m\u001b[1;33m\u001b[0m\u001b[0m\n",
      "\u001b[1;31mNameError\u001b[0m: name 'data' is not defined"
     ]
    }
   ],
   "source": [
    "\n",
    "numtrue=10\n",
    "len_f=900\n",
    "traindata=[]\n",
    "trainlabel=[]\n",
    "okey=data.keys()\n",
    "for i in xrange(numtrue):\n",
    "    mtraf.clearCaches()\n",
    "    d2=mtraf.makeNoisy(0.01,0.01)\n",
    "    for ind in data:\n",
    "        \n",
    "        traindata.append(np.array(data[ind][:len_f]+ d2[ind][:len_f]))\n",
    "        trainlabel.append(1)\n",
    "        falseind = ind \n",
    "        \n",
    "        while falseind==ind:\n",
    "            falseind=np.random.choice(okey)\n",
    "        traindata.append(np.array(data[ind][:len_f]+ d2[falseind][:len_f]))\n",
    "        trainlabel.append(0)\n",
    "            \n",
    "traindata=np.array(traindata)\n",
    "trainlabel=np.array(trainlabel)\n",
    "\n"
   ]
  },
  {
   "cell_type": "code",
   "execution_count": 2,
   "metadata": {
    "collapsed": false
   },
   "outputs": [],
   "source": [
    "tordata_umass,tordata_dst = pickle.load(open('/home/milad/Research/Watermarking/Code/streamingTest/sites500.pickle','r'))"
   ]
  },
  {
   "cell_type": "code",
   "execution_count": 50,
   "metadata": {
    "collapsed": false
   },
   "outputs": [
    {
     "data": {
      "text/plain": [
       "300"
      ]
     },
     "execution_count": 50,
     "metadata": {},
     "output_type": "execute_result"
    }
   ],
   "source": [
    "mlem=99999\n",
    "for k in okeys:\n",
    "    mlem=min(mlen,len(tordata_dst[k]),len(tordata_umass[k]))\n",
    "mlem"
   ]
  },
  {
   "cell_type": "code",
   "execution_count": 61,
   "metadata": {
    "collapsed": true
   },
   "outputs": [],
   "source": [
    "def slotting(sig):\n",
    "    stepsize=0.1\n",
    "    lasttime= stepsize\n",
    "    curtime=0.0\n",
    "    for i in sig:\n",
    "        \n",
    "        "
   ]
  },
  {
   "cell_type": "code",
   "execution_count": 52,
   "metadata": {
    "collapsed": false
   },
   "outputs": [],
   "source": [
    "\n",
    "okeys=tordata_umass.keys()\n",
    "len_f=300\n",
    "traindata=[]\n",
    "trainlabel=[]\n",
    "for ind in okeys:\n",
    "        \n",
    "    \n",
    "    for _ in range(100):\n",
    "        traindata.append(np.array(tordata_dst[ind][:len_f]+ tordata_umass[ind][:len_f]))\n",
    "        trainlabel.append(1)\n",
    "        falseind = ind \n",
    "        while falseind==ind:\n",
    "            falseind=np.random.choice(okeys)\n",
    "        traindata.append(np.array(tordata_dst[ind][:len_f]+ tordata_umass[falseind][:len_f]))\n",
    "        trainlabel.append(0)\n",
    "traindata=np.array(traindata)\n",
    "trainlabel=np.array(trainlabel)"
   ]
  },
  {
   "cell_type": "code",
   "execution_count": 55,
   "metadata": {
    "collapsed": false
   },
   "outputs": [],
   "source": [
    "per=np.random.permutation(trainlabel.shape[0]-10000)\n",
    "shuffledtrain=traindata[:-10000,:][per,:]\n",
    "shuffledtrainlabel=trainlabel[:-10000][per]\n"
   ]
  },
  {
   "cell_type": "code",
   "execution_count": 53,
   "metadata": {
    "collapsed": false
   },
   "outputs": [
    {
     "name": "stdout",
     "output_type": "stream",
     "text": [
      "(100200, 600)\n"
     ]
    }
   ],
   "source": [
    "print (traindata.shape)"
   ]
  },
  {
   "cell_type": "code",
   "execution_count": 56,
   "metadata": {
    "collapsed": false
   },
   "outputs": [
    {
     "name": "stdout",
     "output_type": "stream",
     "text": [
      "(100200, 600)\n",
      "(90200, 600) (10000, 600)\n"
     ]
    }
   ],
   "source": [
    "print (traindata.shape)\n",
    "trainsize=shuffledtrainlabel.shape[0]\n",
    "train_data=shuffledtrain.astype(np.float32)\n",
    "train_label=shuffledtrainlabel.astype(np.float32)\n",
    "test_data=traindata[trainsize:].astype(np.float32)\n",
    "test_label=trainlabel[trainsize:].astype(np.float32)\n",
    "\n",
    "def acc(predictions,label):\n",
    "    ll=label.reshape(-1)\n",
    "    pr=predictions.reshape(-1)\n",
    "    tp=0\n",
    "    tt=0\n",
    "    ff=0\n",
    "    fp=0\n",
    "    print (ll.shape)\n",
    "    for l in xrange(label.shape[0]):\n",
    "        if ll[l]==1:\n",
    "            tt+=1\n",
    "            if pr[l]>0.5:\n",
    "                tp+=1\n",
    "        else:\n",
    "            ff+=1\n",
    "            if pr[l]>0.5:\n",
    "                fp+=1\n",
    "    return tp,tt,fp,ff\n",
    "            \n",
    "\n",
    "print (train_data.shape, test_data.shape)"
   ]
  },
  {
   "cell_type": "code",
   "execution_count": 59,
   "metadata": {
    "collapsed": false
   },
   "outputs": [
    {
     "name": "stdout",
     "output_type": "stream",
     "text": [
      "(90200, 600) (10000, 600)\n",
      "DATA LOADED\n"
     ]
    }
   ],
   "source": [
    "print (train_data.shape, test_data.shape)\n",
    "\n",
    "#print(train_data)\n",
    "#print(test_label)\n",
    "print ('DATA LOADED')\n",
    "batch_size = 128\n",
    "beta = 0.000\n",
    "\n",
    "h1_nodes = 500\n",
    "h2_nodes = 200\n",
    "h3_nodes = 200\n",
    "\n",
    "graph = tf.Graph()\n",
    "\n",
    "with graph.as_default():\n",
    "    tf_train_dataset = tf.placeholder(tf.float32, shape=(batch_size, 600))\n",
    "    tf_train_label = tf.placeholder(tf.float32, shape=(batch_size, 1))\n",
    "    tf_test_dataset = tf.constant(test_data)\n",
    "    \n",
    "    #conv1= tf.nn.conv2d(tf_train_dataset,filtees=32, kernel_size=[2,2],padding=\"same\")\n",
    "    \n",
    "    # H1\n",
    "    h1_w = tf.Variable(tf.truncated_normal([600, h1_nodes]))\n",
    "    h1_b = tf.Variable(tf.truncated_normal([h1_nodes]))\n",
    "    h1 = tf.nn.sigmoid(tf.matmul(tf_train_dataset, h1_w) + h1_b)\n",
    "\n",
    "    # H2\n",
    "#     h2_w = tf.Variable(tf.truncated_normal([h1_nodes, h2_nodes]))\n",
    "#     h2_b = tf.Variable(tf.truncated_normal([h2_nodes]))\n",
    "#     h2 = tf.nn.sigmoid(tf.matmul(h1, h2_w) + h2_b)\n",
    "\n",
    "#     #H3\n",
    "#     h3_w = tf.Variable(tf.truncated_normal([h2_nodes, h3_nodes]))\n",
    "#     h3_b = tf.Variable(tf.truncated_normal([h3_nodes]))\n",
    "#     h3 = tf.nn.sigmoid(tf.matmul(h2, h3_w) + h3_b)\n",
    "\n",
    "    # last\n",
    "\n",
    "    w = tf.Variable(tf.truncated_normal([h1_nodes, 1]))\n",
    "    b = tf.Variable(tf.truncated_normal([1]))\n",
    "\n",
    "    logits = tf.matmul(h1,w)+b\n",
    "    wloss=tf.nn.l2_loss(w)\n",
    "#    ratio = 0.001\n",
    "#    class_weight = tf.constant([ratio, 1.0 - ratio])\n",
    "\n",
    "#    weighted_logits = tf.mul(logits, class_weight) # shape [batch_size, 2]\n",
    "\n",
    "\n",
    "    loss= tf.reduce_mean(tf.nn.sigmoid_cross_entropy_with_logits(logits,tf_train_label) + beta * wloss,name=\"xent_raw\")\n",
    "    global_step = tf.Variable(0, trainable=False)\n",
    "    starter_learning_rate = 0.9\n",
    "    learning_rate = tf.train.exponential_decay(starter_learning_rate, global_step,\n",
    "                                           100000, 0.96, staircase=True)\n",
    "\n",
    "    optimizer= tf.train.GradientDescentOptimizer(learning_rate).minimize(loss,global_step=global_step)\n",
    "\n",
    "    prediction = tf.nn.sigmoid(logits)\n",
    "    test_relu1= tf.nn.sigmoid(tf.matmul(tf_test_dataset,h1_w)+h1_b)\n",
    "    #test_relu2= tf.nn.sigmoid(tf.matmul(test_relu1,h2_w)+h2_b)\n",
    "#     test_relu3= tf.nn.sigmoid(tf.matmul(test_relu2,h3_w)+h3_b)\n",
    "    test_prediction= tf.nn.sigmoid(tf.matmul(test_relu1,w)+b)\n"
   ]
  },
  {
   "cell_type": "code",
   "execution_count": 60,
   "metadata": {
    "collapsed": false
   },
   "outputs": [
    {
     "name": "stdout",
     "output_type": "stream",
     "text": [
      "TF INIT\n",
      "(128,)\n",
      "batch  0 ,loss:3.064606, wloss 195.352875  (53, 66, 56, 62)\n",
      "(10000,)\n",
      "Test ACC (0, 5000, 0, 5000)\n",
      "(128,)\n",
      "batch  1000 ,loss:0.626413, wloss 72.032600  (8, 57, 0, 71)\n",
      "(10000,)\n",
      "Test ACC (3400, 5000, 2783, 5000)\n",
      "(128,)\n",
      "batch  2000 ,loss:0.326151, wloss 165.882385  (67, 67, 15, 61)\n",
      "(10000,)\n",
      "Test ACC (2400, 5000, 1072, 5000)\n",
      "(128,)\n",
      "batch  3000 ,loss:0.222131, wloss 268.775421  (69, 69, 13, 59)\n",
      "(10000,)\n",
      "Test ACC (2000, 5000, 757, 5000)\n",
      "(128,)\n",
      "batch  4000 ,loss:0.233952, wloss 369.211304  (64, 66, 4, 62)\n",
      "(10000,)\n",
      "Test ACC (2800, 5000, 1143, 5000)\n",
      "(128,)\n",
      "batch  5000 ,loss:0.158439, wloss 464.130249  (64, 64, 8, 64)\n",
      "(10000,)\n",
      "Test ACC (1000, 5000, 358, 5000)\n",
      "(128,)\n",
      "batch  6000 ,loss:0.106483, wloss 552.308594  (61, 61, 4, 67)\n",
      "(10000,)\n",
      "Test ACC (1100, 5000, 403, 5000)\n",
      "(128,)\n",
      "batch  7000 ,loss:0.147349, wloss 633.736206  (62, 62, 2, 66)\n",
      "(10000,)\n",
      "Test ACC (1200, 5000, 345, 5000)\n",
      "(128,)\n",
      "batch  8000 ,loss:0.068204, wloss 707.838013  (64, 64, 4, 64)\n",
      "(10000,)\n",
      "Test ACC (900, 5000, 296, 5000)\n",
      "(128,)\n",
      "batch  9000 ,loss:0.101300, wloss 776.689758  (64, 64, 3, 64)\n",
      "(10000,)\n",
      "Test ACC (700, 5000, 209, 5000)\n",
      "(128,)\n",
      "batch  10000 ,loss:0.028142, wloss 839.008179  (68, 68, 0, 60)\n",
      "(10000,)\n",
      "Test ACC (1400, 5000, 335, 5000)\n",
      "(128,)\n",
      "batch  11000 ,loss:0.041715, wloss 897.583008  (57, 57, 0, 71)\n",
      "(10000,)\n",
      "Test ACC (700, 5000, 173, 5000)\n",
      "(128,)\n",
      "batch  12000 ,loss:0.030189, wloss 951.749329  (72, 72, 0, 56)\n",
      "(10000,)\n",
      "Test ACC (1200, 5000, 280, 5000)\n",
      "(128,)\n",
      "batch  13000 ,loss:0.046931, wloss 1002.168457  (57, 57, 1, 71)\n",
      "(10000,)\n",
      "Test ACC (600, 5000, 147, 5000)\n",
      "(128,)\n",
      "batch  14000 ,loss:0.034399, wloss 1049.592651  (63, 63, 2, 65)\n",
      "(10000,)\n",
      "Test ACC (500, 5000, 146, 5000)\n",
      "(128,)\n",
      "batch  15000 ,loss:0.023328, wloss 1093.816895  (69, 69, 1, 59)\n",
      "(10000,)\n",
      "Test ACC (900, 5000, 206, 5000)\n",
      "(128,)\n",
      "batch  16000 ,loss:0.033953, wloss 1135.837158  (68, 68, 0, 60)\n",
      "(10000,)\n",
      "Test ACC (1300, 5000, 263, 5000)\n",
      "(128,)\n",
      "batch  17000 ,loss:0.049326, wloss 1175.060181  (67, 67, 3, 61)\n",
      "(10000,)\n",
      "Test ACC (400, 5000, 94, 5000)\n",
      "(128,)\n",
      "batch  18000 ,loss:0.025474, wloss 1212.406250  (56, 56, 1, 72)\n",
      "(10000,)\n",
      "Test ACC (700, 5000, 123, 5000)\n",
      "(128,)\n",
      "batch  19000 ,loss:0.013036, wloss 1247.654297  (74, 74, 0, 54)\n",
      "(10000,)\n",
      "Test ACC (900, 5000, 165, 5000)\n",
      "(128,)\n",
      "batch  20000 ,loss:0.014844, wloss 1281.333618  (59, 59, 0, 69)\n",
      "(10000,)\n",
      "Test ACC (800, 5000, 155, 5000)\n"
     ]
    }
   ],
   "source": [
    "\n",
    "numstep = 20001\n",
    "with tf.Session(graph=graph) as ses:\n",
    "    tf.initialize_all_variables().run()\n",
    "    print ('TF INIT')\n",
    "    for step in range(numstep):\n",
    "        offset = (step*batch_size) % (train_label.shape[0]-batch_size)\n",
    "        batch_data=train_data[offset:offset+batch_size,:]\n",
    "        batch_label=train_label[offset:offset+batch_size].reshape(-1,1)\n",
    "\n",
    "        feed_dict= {tf_train_dataset:batch_data, tf_train_label:batch_label,}\n",
    "        _,l,lw,pp = ses.run([optimizer,loss,wloss,prediction],feed_dict=feed_dict)\n",
    "        if step % 1000==0:\n",
    "        \n",
    "            print (\"batch  %d ,loss:%f, wloss %f \"%(step,l,lw,),(acc(pp,batch_label)))\n",
    "            tt=test_prediction.eval()\n",
    "            #print (train_label.reshape(-1,1)[:10])\n",
    "            #print ((np.array(tt[:10])+0.5).astype(np.int32))\n",
    "            print (\"Test ACC\",acc(tt,test_label))\n"
   ]
  },
  {
   "cell_type": "code",
   "execution_count": 2,
   "metadata": {
    "collapsed": true
   },
   "outputs": [],
   "source": [
    "import numpy as np\n",
    "\n",
    "def calc_MI(X,Y,bins):\n",
    "\n",
    "   c_XY = np.histogram2d(X,Y,bins)[0]\n",
    "   c_X = np.histogram(X,bins)[0]\n",
    "   c_Y = np.histogram(Y,bins)[0]\n",
    "\n",
    "   H_X = shan_entropy(c_X)\n",
    "   H_Y = shan_entropy(c_Y)\n",
    "   H_XY = shan_entropy(c_XY)\n",
    "\n",
    "   MI = H_X + H_Y - H_XY\n",
    "   return MI\n",
    "\n",
    "def shan_entropy(c):\n",
    "    c_normalized = c / float(np.sum(c))\n",
    "    c_normalized = c_normalized[np.nonzero(c_normalized)]\n",
    "    H = -sum(c_normalized* np.log2(c_normalized))  \n",
    "    return H\n",
    "\n",
    "A = np.array([[ 2.0,  140.0,  128.23, -150.5, -5.4  ],\n",
    "              [ 2.4,  153.11, 130.34, -130.1, -9.5  ],\n",
    "              [ 1.2,  156.9,  120.11, -110.45,-1.12 ]])\n",
    "\n",
    "bins = 5 # ?\n",
    "n = A.shape[1]\n",
    "matMI = np.zeros((n, n))\n",
    "\n",
    "for ix in np.arange(n):\n",
    "    for jx in np.arange(ix+1,n):\n",
    "        matMI[ix,jx] = calc_MI(A[:,ix], A[:,jx], bins)"
   ]
  },
  {
   "cell_type": "code",
   "execution_count": 8,
   "metadata": {
    "collapsed": false
   },
   "outputs": [
    {
     "data": {
      "text/plain": [
       "1.9219280948873623"
      ]
     },
     "execution_count": 8,
     "metadata": {},
     "output_type": "execute_result"
    }
   ],
   "source": [
    "calc_MI(np.arange(5),np.arange(5,10),4)"
   ]
  },
  {
   "cell_type": "code",
   "execution_count": 9,
   "metadata": {
    "collapsed": false
   },
   "outputs": [
    {
     "data": {
      "text/plain": [
       "array([[ 1.,  0.,  0.,  0.,  0.],\n",
       "       [ 0.,  1.,  0.,  0.,  0.],\n",
       "       [ 0.,  0.,  1.,  0.,  0.],\n",
       "       [ 0.,  0.,  0.,  1.,  0.],\n",
       "       [ 0.,  0.,  0.,  0.,  1.]])"
      ]
     },
     "execution_count": 9,
     "metadata": {},
     "output_type": "execute_result"
    }
   ],
   "source": [
    "np.histogram2d(np.arange(5),np.arange(5,10),bins)[0]"
   ]
  },
  {
   "cell_type": "code",
   "execution_count": null,
   "metadata": {
    "collapsed": true
   },
   "outputs": [],
   "source": []
  }
 ],
 "metadata": {
  "kernelspec": {
   "display_name": "Python 2",
   "language": "python",
   "name": "python2"
  },
  "language_info": {
   "codemirror_mode": {
    "name": "ipython",
    "version": 2
   },
   "file_extension": ".py",
   "mimetype": "text/x-python",
   "name": "python",
   "nbconvert_exporter": "python",
   "pygments_lexer": "ipython2",
   "version": "2.7.12"
  }
 },
 "nbformat": 4,
 "nbformat_minor": 0
}
